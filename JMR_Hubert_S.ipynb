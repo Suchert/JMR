{
 "cells": [
  {
   "cell_type": "code",
   "execution_count": 1,
   "metadata": {
    "ExecuteTime": {
     "end_time": "2020-11-22T13:06:00.072484Z",
     "start_time": "2020-11-22T13:05:58.950477Z"
    }
   },
   "outputs": [],
   "source": [
    "import os\n",
    "from bs4 import BeautifulSoup\n",
    "import requests\n",
    "from lxml import etree\n",
    "import re\n",
    "import numpy as np\n",
    "import pandas as pd\n",
    "import scrapy"
   ]
  },
  {
   "cell_type": "code",
   "execution_count": 2,
   "metadata": {
    "ExecuteTime": {
     "end_time": "2020-11-22T13:06:00.121341Z",
     "start_time": "2020-11-22T13:06:00.105359Z"
    }
   },
   "outputs": [],
   "source": [
    "keywords = pd.read_csv('keyword2tumor_type.csv', encoding = \"utf-8\")\n",
    "train = pd.read_csv('train.csv')\n",
    "tumorTypes = list(set(keywords.tumor_type))\n",
    "words_to_search = list(set(keywords.keyword))\n",
    "words_to_search = [x.lower() for x in words_to_search]"
   ]
  },
  {
   "cell_type": "code",
   "execution_count": null,
   "metadata": {
    "ExecuteTime": {
     "end_time": "2020-11-22T12:49:20.549446Z",
     "start_time": "2020-11-22T12:49:20.544467Z"
    }
   },
   "outputs": [],
   "source": [
    "\n"
   ]
  },
  {
   "cell_type": "code",
   "execution_count": null,
   "metadata": {
    "ExecuteTime": {
     "end_time": "2020-11-22T12:49:22.682755Z",
     "start_time": "2020-11-22T12:49:22.604951Z"
    }
   },
   "outputs": [],
   "source": [
    "data = {'Filename': [], \n",
    "        'Address': []}\n",
    "df = pd.DataFrame(data)\n",
    "for i in range(len(words_to_search)):\n",
    "    df.insert(i+2, words_to_search[i], [], True)"
   ]
  },
  {
   "cell_type": "code",
   "execution_count": null,
   "metadata": {
    "ExecuteTime": {
     "end_time": "2020-11-22T12:59:57.289989Z",
     "start_time": "2020-11-22T12:59:57.250094Z"
    }
   },
   "outputs": [],
   "source": [
    "df"
   ]
  },
  {
   "cell_type": "code",
   "execution_count": null,
   "metadata": {
    "ExecuteTime": {
     "end_time": "2020-11-22T12:50:04.344033Z",
     "start_time": "2020-11-22T12:49:24.177149Z"
    }
   },
   "outputs": [],
   "source": [
    "directory ='/Users/Hubert/Python/JMR/python-data-engineer-crawler-hubert-suchecki-podejscie-2/htmls'\n",
    "for filename in os.listdir(directory):\n",
    "    row ={'Filename': [filename], 'Adress': ['abc']}\n",
    "    if filename.endswith('.html'):\n",
    "        fname = os.path.join(directory,filename)\n",
    "        with open(fname,'r',encoding = \"ISO-8859-1\") as f:\n",
    "            soup = BeautifulSoup(f,features=\"html.parser\")\n",
    "            for script in soup([\"script\", \"style\"]):\n",
    "                script.extract()\n",
    "                text = soup.get_text()\n",
    "                lines = (line.strip() for line in text.splitlines())\n",
    "                chunks = (phrase.strip() for line in lines for phrase in line.split(\"  \"))\n",
    "                text = '\\n'.join(chunk for chunk in chunks if chunk)\n",
    "                list_of_words = text.split(sep=None)\n",
    "                list_of_words = [x.lower() for x in list_of_words]\n",
    "                for i in range(len(words_to_search)):\n",
    "                    word = words_to_search[i]\n",
    "                    countOfWord = list_of_words.count(word)\n",
    "                    row[word] = countOfWord\n",
    "                df2 = pd.DataFrame(row)\n",
    "    df = df.append(df2,ignore_index = True)"
   ]
  },
  {
   "cell_type": "code",
   "execution_count": null,
   "metadata": {
    "ExecuteTime": {
     "end_time": "2020-11-22T12:50:04.518563Z",
     "start_time": "2020-11-22T12:50:04.470707Z"
    },
    "scrolled": true
   },
   "outputs": [],
   "source": [
    "df"
   ]
  },
  {
   "cell_type": "code",
   "execution_count": null,
   "metadata": {
    "ExecuteTime": {
     "end_time": "2020-10-15T15:00:51.452754Z",
     "start_time": "2020-10-15T15:00:51.448765Z"
    }
   },
   "outputs": [],
   "source": [
    "import requests as req"
   ]
  },
  {
   "cell_type": "code",
   "execution_count": null,
   "metadata": {
    "ExecuteTime": {
     "end_time": "2020-10-15T15:28:14.878535Z",
     "start_time": "2020-10-15T15:28:06.002186Z"
    }
   },
   "outputs": [],
   "source": [
    "directory ='/Users/Hubert/Python/JMR/python-data-engineer-crawler-hubert-suchecki-podejscie-2/htmls'\n",
    "i = 0\n",
    "for filename in os.listdir(directory):\n",
    "    print(i)\n",
    "    i = i+1\n",
    "    row ={'Filename': [filename], 'Adress': ['abc']}\n",
    "    if filename.endswith('.html'):\n",
    "        fname = os.path.join(directory,filename)\n",
    "        with open(fname,'r',encoding = \"ISO-8859-1\") as f:\n",
    "            soup = BeautifulSoup(f,features=\"html.parser\")\n",
    "            for link in soup.findAll('a', attrs={'href': re.compile(\"^htt\")}):\n",
    "                print(link.get('href'))"
   ]
  },
  {
   "cell_type": "code",
   "execution_count": null,
   "metadata": {
    "ExecuteTime": {
     "end_time": "2020-10-15T14:49:14.435259Z",
     "start_time": "2020-10-15T14:49:07.192519Z"
    }
   },
   "outputs": [],
   "source": [
    "directory ='/Users/Hubert/Python/JMR/python-data-engineer-crawler-hubert-suchecki-podejscie-2/htmls'\n",
    "i = 0\n",
    "for filename in os.listdir(directory):\n",
    "    print(i)\n",
    "    i = i+1\n",
    "    row ={'Filename': [filename], 'Adress': ['abc']}\n",
    "    if filename.endswith('.html'):\n",
    "        fname = os.path.join(directory,filename)\n",
    "        with open(fname,'r',encoding = \"ISO-8859-1\") as f:\n",
    "            soup = BeautifulSoup(f,features=\"html.parser\")\n",
    "            for link in soup.find_all('base'):\n",
    "                if link.get('href')!= 0:\n",
    "                    print(link.get('href'))\n",
    "                else "
   ]
  },
  {
   "cell_type": "code",
   "execution_count": null,
   "metadata": {},
   "outputs": [],
   "source": [
    "/html/body/header/div[1]/div/div/a[1]"
   ]
  }
 ],
 "metadata": {
  "kernelspec": {
   "display_name": "Python 3",
   "language": "python",
   "name": "python3"
  },
  "language_info": {
   "codemirror_mode": {
    "name": "ipython",
    "version": 3
   },
   "file_extension": ".py",
   "mimetype": "text/x-python",
   "name": "python",
   "nbconvert_exporter": "python",
   "pygments_lexer": "ipython3",
   "version": "3.6.10"
  },
  "latex_envs": {
   "LaTeX_envs_menu_present": true,
   "autoclose": false,
   "autocomplete": true,
   "bibliofile": "biblio.bib",
   "cite_by": "apalike",
   "current_citInitial": 1,
   "eqLabelWithNumbers": true,
   "eqNumInitial": 1,
   "hotkeys": {
    "equation": "Ctrl-E",
    "itemize": "Ctrl-I"
   },
   "labels_anchors": false,
   "latex_user_defs": false,
   "report_style_numbering": false,
   "user_envs_cfg": false
  },
  "toc": {
   "base_numbering": 1,
   "nav_menu": {},
   "number_sections": true,
   "sideBar": true,
   "skip_h1_title": false,
   "title_cell": "Table of Contents",
   "title_sidebar": "Contents",
   "toc_cell": false,
   "toc_position": {},
   "toc_section_display": true,
   "toc_window_display": false
  },
  "varInspector": {
   "cols": {
    "lenName": 16,
    "lenType": 16,
    "lenVar": 40
   },
   "kernels_config": {
    "python": {
     "delete_cmd_postfix": "",
     "delete_cmd_prefix": "del ",
     "library": "var_list.py",
     "varRefreshCmd": "print(var_dic_list())"
    },
    "r": {
     "delete_cmd_postfix": ") ",
     "delete_cmd_prefix": "rm(",
     "library": "var_list.r",
     "varRefreshCmd": "cat(var_dic_list()) "
    }
   },
   "types_to_exclude": [
    "module",
    "function",
    "builtin_function_or_method",
    "instance",
    "_Feature"
   ],
   "window_display": false
  }
 },
 "nbformat": 4,
 "nbformat_minor": 4
}
